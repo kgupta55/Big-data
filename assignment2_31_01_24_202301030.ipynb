{
  "nbformat": 4,
  "nbformat_minor": 0,
  "metadata": {
    "colab": {
      "provenance": [],
      "authorship_tag": "ABX9TyM4g20a2qrbLHGiFDcxGqwr",
      "include_colab_link": true
    },
    "kernelspec": {
      "name": "python3",
      "display_name": "Python 3"
    },
    "language_info": {
      "name": "python"
    }
  },
  "cells": [
    {
      "cell_type": "markdown",
      "metadata": {
        "id": "view-in-github",
        "colab_type": "text"
      },
      "source": [
        "<a href=\"https://colab.research.google.com/github/kgupta55/Big-data/blob/main/assignment2_31_01_24_202301030.ipynb\" target=\"_parent\"><img src=\"https://colab.research.google.com/assets/colab-badge.svg\" alt=\"Open In Colab\"/></a>"
      ]
    },
    {
      "cell_type": "code",
      "execution_count": null,
      "metadata": {
        "colab": {
          "base_uri": "https://localhost:8080/"
        },
        "id": "R7J9NFWdR7wZ",
        "outputId": "0748857b-ae54-40b5-d5bc-48fa5beebf23"
      },
      "outputs": [
        {
          "output_type": "stream",
          "name": "stdout",
          "text": [
            "[5 4 6 3 2 1]\n"
          ]
        }
      ],
      "source": [
        "import numpy as np\n",
        "a=np.array([1,2,3,6,4,5])\n",
        "print(np.flip(a))\n",
        "\n"
      ]
    },
    {
      "cell_type": "code",
      "source": [
        "b=np.array([[1,2],[3,4]])\n",
        "c=np.array([[1,2],[3,4]])\n",
        "print(b==c)\n"
      ],
      "metadata": {
        "colab": {
          "base_uri": "https://localhost:8080/"
        },
        "id": "SwiTxzJfVw6Z",
        "outputId": "2a8a2a13-50ae-48f0-c502-cb7f29f49585"
      },
      "execution_count": null,
      "outputs": [
        {
          "output_type": "stream",
          "name": "stdout",
          "text": [
            "[[ True  True]\n",
            " [ True  True]]\n"
          ]
        }
      ]
    },
    {
      "cell_type": "code",
      "source": [
        "import numpy as np\n",
        "\n",
        "x = np.array([1,2,3,4,5,1,2,1,1,1])\n",
        "\n",
        "counts = np.bincount(x)  # Count occurrences of each element\n",
        "most_frequent_value = counts.argmax()  # Find the index of the maximum count\n",
        "indices = np.where(x == most_frequent_value)[0] # Find all indices of the most frequent value\n",
        "\n",
        "print(f\"Most frequent value: {most_frequent_value}\")\n",
        "print(f\"Indices: {indices}\")\n",
        "\n",
        "# Question3 2nd Part\n",
        "y = np.array([1, 1, 1, 2, 3, 4, 2, 4, 3, 3])\n",
        "\n",
        "counts = np.bincount(y)\n",
        "most_frequent_value = counts.argmax()\n",
        "indices = np.where(y == most_frequent_value)[0]\n",
        "\n",
        "print(f\"Most frequent value: {most_frequent_value}\")\n",
        "print(f\"Indices: {indices}\")"
      ],
      "metadata": {
        "colab": {
          "base_uri": "https://localhost:8080/"
        },
        "id": "-wtee6wmW0RM",
        "outputId": "dec501f4-5fd1-4ab9-cf70-be85bac824ba"
      },
      "execution_count": null,
      "outputs": [
        {
          "output_type": "stream",
          "name": "stdout",
          "text": [
            "Most frequent value: 1\n",
            "Indices: [0 5 7 8 9]\n",
            "Most frequent value: 1\n",
            "Indices: [0 1 2]\n"
          ]
        }
      ]
    },
    {
      "cell_type": "code",
      "source": [
        "#Question4\n",
        "import numpy as np\n",
        "\n",
        "x = np.matrix('[4, 1, 9; 12, 3, 1; 4, 5, 6]')\n",
        "print(x)\n",
        "\n",
        "sum_matrix = np.sum(x)\n",
        "print(\"\\n the sum of matrix is\", sum_matrix)\n",
        "\n",
        "sum_row = x.sum(axis = 1)\n",
        "print(\"\\n the sum of all rows are:\", sum_row)\n",
        "\n",
        "sum_col = x.sum(axis = 0)\n",
        "print(\"\\n the sum of all columns are:\", sum_col)"
      ],
      "metadata": {
        "colab": {
          "base_uri": "https://localhost:8080/"
        },
        "id": "ZHyvii-X3X9A",
        "outputId": "bece5997-a36d-483a-af68-6f6bc8401f8e"
      },
      "execution_count": null,
      "outputs": [
        {
          "output_type": "stream",
          "name": "stdout",
          "text": [
            "[[ 4  1  9]\n",
            " [12  3  1]\n",
            " [ 4  5  6]]\n",
            "\n",
            " the sum of matrix is 45\n",
            "\n",
            " the sum of all rows are: [[14]\n",
            " [16]\n",
            " [15]]\n",
            "\n",
            " the sum of all columns are: [[20  9 16]]\n"
          ]
        }
      ]
    }
  ]
}
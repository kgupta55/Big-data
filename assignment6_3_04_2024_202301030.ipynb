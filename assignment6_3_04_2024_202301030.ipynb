{
  "nbformat": 4,
  "nbformat_minor": 0,
  "metadata": {
    "colab": {
      "provenance": [],
      "authorship_tag": "ABX9TyP/VxMmDLTFGRimOya+D21p",
      "include_colab_link": true
    },
    "kernelspec": {
      "name": "python3",
      "display_name": "Python 3"
    },
    "language_info": {
      "name": "python"
    }
  },
  "cells": [
    {
      "cell_type": "markdown",
      "metadata": {
        "id": "view-in-github",
        "colab_type": "text"
      },
      "source": [
        "<a href=\"https://colab.research.google.com/github/kgupta55/Big-data/blob/main/assignment6_3_04_2024_202301030.ipynb\" target=\"_parent\"><img src=\"https://colab.research.google.com/assets/colab-badge.svg\" alt=\"Open In Colab\"/></a>"
      ]
    },
    {
      "cell_type": "code",
      "source": [
        "from sklearn.datasets import make_blobs\n",
        "from sklearn.cluster import KMeans\n",
        "import matplotlib.pyplot as plt\n",
        "import pandas as pd\n",
        "import numpy as np\n",
        "import random as rd\n",
        "data = pd.read_csv('concrete.csv')\n",
        "data.head()\n",
        "x = data[\"Age\"]\n",
        "y = data[\"CompressiveStrength\"]\n",
        "data = list(zip(x, y))\n",
        "num_clusters = 3 # Specify the number of clusters\n",
        "kmeans = KMeans(n_clusters=num_clusters)\n",
        "kmeans.fit(data)\n",
        "print(f\"Number of clusters: {num_clusters}\")"
      ],
      "metadata": {
        "colab": {
          "base_uri": "https://localhost:8080/"
        },
        "id": "SQXJNoqnzsvW",
        "outputId": "00ba7831-cecd-4ff8-93c7-22c2f514c642"
      },
      "execution_count": 4,
      "outputs": [
        {
          "output_type": "stream",
          "name": "stderr",
          "text": [
            "/usr/local/lib/python3.10/dist-packages/sklearn/cluster/_kmeans.py:870: FutureWarning: The default value of `n_init` will change from 10 to 'auto' in 1.4. Set the value of `n_init` explicitly to suppress the warning\n",
            "  warnings.warn(\n"
          ]
        },
        {
          "output_type": "stream",
          "name": "stdout",
          "text": [
            "Number of clusters: 3\n"
          ]
        }
      ]
    }
  ]
}
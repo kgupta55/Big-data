{
  "nbformat": 4,
  "nbformat_minor": 0,
  "metadata": {
    "colab": {
      "provenance": [],
      "authorship_tag": "ABX9TyM8TLID1F7Qc8sWkvWPqM+G",
      "include_colab_link": true
    },
    "kernelspec": {
      "name": "python3",
      "display_name": "Python 3"
    },
    "language_info": {
      "name": "python"
    }
  },
  "cells": [
    {
      "cell_type": "markdown",
      "metadata": {
        "id": "view-in-github",
        "colab_type": "text"
      },
      "source": [
        "<a href=\"https://colab.research.google.com/github/kgupta55/Big-data/blob/main/LabEval_Mca1_202301030.ipynb\" target=\"_parent\"><img src=\"https://colab.research.google.com/assets/colab-badge.svg\" alt=\"Open In Colab\"/></a>"
      ]
    },
    {
      "cell_type": "code",
      "execution_count": 1,
      "metadata": {
        "colab": {
          "base_uri": "https://localhost:8080/"
        },
        "id": "i8BiPUbnwOpu",
        "outputId": "564850b4-5d9d-46f8-9f77-dbe33893628c"
      },
      "outputs": [
        {
          "output_type": "stream",
          "name": "stdout",
          "text": [
            "Product of matrices p and q:\n",
            "[[16 19]\n",
            " [26 31]]\n"
          ]
        }
      ],
      "source": [
        "import numpy as np\n",
        "\n",
        "p = np.array([[1, 2], [2, 3]])\n",
        "q = np.array([[4, 5], [6, 7]])\n",
        "\n",
        "product = np.dot(p, q)\n",
        "\n",
        "print(\"Product of matrices p and q:\")\n",
        "print(product)\n",
        "\n",
        "\n",
        "\n"
      ]
    },
    {
      "cell_type": "code",
      "source": [
        "import numpy as np\n",
        "\n",
        "p = np.array([[1, 2],\n",
        "              [2, 3]])\n",
        "\n",
        "q = np.array([[4, 5],\n",
        "              [6, 7]])\n",
        "\n",
        "# Matrix multiplication\n",
        "result = np.dot(p,q)\n",
        "print(\"Matrix multiplication result:\")\n",
        "print(result)\n",
        "\n",
        "# Calculate covariance between matrices\n",
        "covariance = np.cov(p.flatten(), q.flatten())\n",
        "print(\"\\nCovariance between matrices:\")\n",
        "print(covariance)"
      ],
      "metadata": {
        "colab": {
          "base_uri": "https://localhost:8080/"
        },
        "id": "XEG5MAytypow",
        "outputId": "0b6f9902-2728-40c4-ab69-22790cdc0229"
      },
      "execution_count": 2,
      "outputs": [
        {
          "output_type": "stream",
          "name": "stdout",
          "text": [
            "Matrix multiplication result:\n",
            "[[16 19]\n",
            " [26 31]]\n",
            "\n",
            "Covariance between matrices:\n",
            "[[0.66666667 1.        ]\n",
            " [1.         1.66666667]]\n"
          ]
        }
      ]
    }
  ]
}